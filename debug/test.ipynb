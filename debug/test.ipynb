{
 "cells": [
  {
   "cell_type": "code",
   "execution_count": 10,
   "id": "654411f9-fb9c-4d10-b1cf-71431dd2489d",
   "metadata": {},
   "outputs": [],
   "source": [
    "import sympy"
   ]
  },
  {
   "cell_type": "code",
   "execution_count": 1,
   "id": "3c962f74-ddf7-43da-8496-0ba4f57301bf",
   "metadata": {},
   "outputs": [],
   "source": [
    "import equation_database as edb"
   ]
  },
  {
   "cell_type": "code",
   "execution_count": 2,
   "id": "d7f3878f-2346-4a3c-bd29-64a0ee85cfe7",
   "metadata": {},
   "outputs": [],
   "source": [
    "import equation_database.arxiv"
   ]
  },
  {
   "cell_type": "code",
   "execution_count": 3,
   "id": "c39d1916-89f9-4e61-adcb-27af38a001c1",
   "metadata": {
    "scrolled": true
   },
   "outputs": [],
   "source": [
    "import equation_database.arxiv._2202._13416 as paper"
   ]
  },
  {
   "cell_type": "code",
   "execution_count": 4,
   "id": "d2d3131f-750e-4cc2-97c2-bf7fd436ad35",
   "metadata": {},
   "outputs": [
    {
     "data": {
      "text/plain": [
       "'\\n@article{Fiaschi:2022odp,\\n    author = \"Fiaschi, Juri and Fuks, Benjamin and Klasen, Michael and Neuwirth, Alexander\",\\n    title = \"{Soft gluon resummation for associated squark-electroweakino production at the LHC}\",\\n    eprint = \"2202.13416\",\\n    archivePrefix = \"arXiv\",\\n    primaryClass = \"hep-ph\",\\n    reportNumber = \"MS-TP-22-05, LTH 1299\",\\n    doi = \"10.1007/JHEP06(2022)130\",\\n    journal = \"JHEP\",\\n    volume = \"06\",\\n    pages = \"130\",\\n    year = \"2022\"\\n}\\n'"
      ]
     },
     "execution_count": 4,
     "metadata": {},
     "output_type": "execute_result"
    }
   ],
   "source": [
    "paper.bibtex"
   ]
  },
  {
   "cell_type": "code",
   "execution_count": 5,
   "id": "d139c76b-5363-4d48-bf77-275c14689559",
   "metadata": {},
   "outputs": [
    {
     "data": {
      "text/latex": [
       "$\\displaystyle \\frac{2 B C_{A} C_{F} g_{s}^{2} \\left(m_{\\chi}^{2} - t\\right)}{s}$"
      ],
      "text/plain": [
       "2*B*C_A*C_F*g_s**2*(m_chi**2 - t)/s"
      ]
     },
     "execution_count": 5,
     "metadata": {},
     "output_type": "execute_result"
    }
   ],
   "source": [
    "paper.equation_2_4.rhs"
   ]
  },
  {
   "cell_type": "code",
   "execution_count": 6,
   "id": "cdd32c2e-3ff2-4520-b11c-fbbfa1144c2a",
   "metadata": {},
   "outputs": [
    {
     "data": {
      "text/latex": [
       "$\\displaystyle \\left|{M_{s}}\\right|^{2} = \\frac{2 B C_{A} C_{F} g_{s}^{2} \\left(m_{\\chi}^{2} - t\\right)}{s}$"
      ],
      "text/plain": [
       "Eq(Abs(M_s)**2, 2*B*C_A*C_F*g_s**2*(m_chi**2 - t)/s)"
      ]
     },
     "execution_count": 6,
     "metadata": {},
     "output_type": "execute_result"
    }
   ],
   "source": [
    "paper.equation_2_4"
   ]
  },
  {
   "cell_type": "code",
   "execution_count": 7,
   "id": "99c3272e-9419-4cd1-9fc3-dd1044b29b50",
   "metadata": {},
   "outputs": [
    {
     "data": {
      "text/latex": [
       "$\\displaystyle \\left|{M}\\right|^{2} = \\frac{\\operatorname{re}{\\left(M_{s} \\overline{M_{u}}\\right)}}{48} + \\frac{\\left|{M_{s}}\\right|^{2}}{96} + \\frac{\\left|{M_{u}}\\right|^{2}}{96}$"
      ],
      "text/plain": [
       "Eq(Abs(M)**2, re(M_s*conjugate(M_u))/48 + Abs(M_s)**2/96 + Abs(M_u)**2/96)"
      ]
     },
     "execution_count": 7,
     "metadata": {},
     "output_type": "execute_result"
    }
   ],
   "source": [
    "paper.equation_2_8"
   ]
  },
  {
   "cell_type": "code",
   "execution_count": 29,
   "id": "30a4197b-23f4-4be9-99fd-ffeb8d648b63",
   "metadata": {},
   "outputs": [
    {
     "data": {
      "text/latex": [
       "$\\displaystyle \\left|{M}\\right|^{2} = \\frac{B C_{A} C_{F} g_{s}^{2} \\left(m_{\\chi}^{2} - u\\right) \\left(m_{sq}^{2} + u\\right)}{48 \\left(- m_{sq}^{2} + u\\right)^{2}} + \\frac{B C_{A} C_{F} g_{s}^{2} \\left(m_{\\chi}^{2} - t\\right)}{48 s} + \\frac{\\operatorname{re}{\\left(M_{s} \\overline{M_{u}}\\right)}}{48}$"
      ],
      "text/plain": [
       "Eq(Abs(M)**2, B*C_A*C_F*g_s**2*(m_chi**2 - u)*(m_sq**2 + u)/(48*(-m_sq**2 + u)**2) + B*C_A*C_F*g_s**2*(m_chi**2 - t)/(48*s) + re(M_s*conjugate(M_u))/48)"
      ]
     },
     "execution_count": 29,
     "metadata": {},
     "output_type": "execute_result"
    }
   ],
   "source": [
    "paper.equation_2_8.subs(paper.equation_2_4.lhs,paper.equation_2_4.rhs\n",
    "                       ).subs(paper.equation_2_5.lhs,paper.equation_2_5.rhs\n",
    "                             ).subs(paper.equation_2_6.lhs,paper.equation_2_6.rhs)"
   ]
  },
  {
   "cell_type": "code",
   "execution_count": 32,
   "id": "f07cc2c9-c6bb-4f67-9359-6031cbb6b207",
   "metadata": {},
   "outputs": [
    {
     "data": {
      "text/plain": [
       "'2*B*C_A*C_F*pow(g_s, 2)*(pow(m_chi, 2) - u)*(pow(m_sq, 2) + u)/pow(-pow(m_sq, 2) + u, 2)'"
      ]
     },
     "execution_count": 32,
     "metadata": {},
     "output_type": "execute_result"
    }
   ],
   "source": [
    "sympy.ccode(paper.equation_2_5.rhs)"
   ]
  },
  {
   "cell_type": "code",
   "execution_count": 33,
   "id": "270fca0e-2937-4a46-a546-5564f3a19e53",
   "metadata": {},
   "outputs": [
    {
     "data": {
      "text/plain": [
       "'2*B*C_A*C_F*g_s^2*(m_chi^2 - u)*(m_sq^2 + u)/(-m_sq^2 + u)^2'"
      ]
     },
     "execution_count": 33,
     "metadata": {},
     "output_type": "execute_result"
    }
   ],
   "source": [
    "sympy.mathematica_code(paper.equation_2_5.rhs)"
   ]
  },
  {
   "cell_type": "code",
   "execution_count": 34,
   "id": "6d69676f-1b04-4274-a7dc-31db8f704e9b",
   "metadata": {},
   "outputs": [
    {
     "data": {
      "text/plain": [
       "'2*B*C_A*C_F*g_s**2*(m_chi**2 - u)*(m_sq**2 + u)/(-m_sq**2 + u)**2'"
      ]
     },
     "execution_count": 34,
     "metadata": {},
     "output_type": "execute_result"
    }
   ],
   "source": [
    "sympy.pycode(paper.equation_2_5.rhs)"
   ]
  },
  {
   "cell_type": "code",
   "execution_count": 35,
   "id": "dabe42c8-9f4d-4326-8993-5b41ba519a1f",
   "metadata": {},
   "outputs": [
    {
     "data": {
      "text/plain": [
       "'      2*B*C_A*C_F*g_s**2*(m_chi**2 - u)*(m_sq**2 + u)/(-m_sq**2 + u)**2'"
      ]
     },
     "execution_count": 35,
     "metadata": {},
     "output_type": "execute_result"
    }
   ],
   "source": [
    "sympy.fcode(paper.equation_2_5.rhs)"
   ]
  },
  {
   "cell_type": "code",
   "execution_count": null,
   "id": "3fd03f5b-79e7-409f-baba-8700d3665186",
   "metadata": {},
   "outputs": [],
   "source": []
  }
 ],
 "metadata": {
  "kernelspec": {
   "display_name": "Python 3 (ipykernel)",
   "language": "python",
   "name": "python3"
  },
  "language_info": {
   "codemirror_mode": {
    "name": "ipython",
    "version": 3
   },
   "file_extension": ".py",
   "mimetype": "text/x-python",
   "name": "python",
   "nbconvert_exporter": "python",
   "pygments_lexer": "ipython3",
   "version": "3.11.7"
  }
 },
 "nbformat": 4,
 "nbformat_minor": 5
}
